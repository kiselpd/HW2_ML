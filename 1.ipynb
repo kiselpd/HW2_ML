{
  "nbformat": 4,
  "nbformat_minor": 0,
  "metadata": {
    "colab": {
      "name": "Untitled3.ipynb",
      "provenance": [],
      "collapsed_sections": [],
      "authorship_tag": "ABX9TyNWj4SPpFOVW/3EEiXwquXg",
      "include_colab_link": true
    },
    "kernelspec": {
      "name": "python3",
      "display_name": "Python 3"
    },
    "language_info": {
      "name": "python"
    }
  },
  "cells": [
    {
      "cell_type": "markdown",
      "metadata": {
        "id": "view-in-github",
        "colab_type": "text"
      },
      "source": [
        "<a href=\"https://colab.research.google.com/github/kiselpd/HW2_ML/blob/main/1.ipynb\" target=\"_parent\"><img src=\"https://colab.research.google.com/assets/colab-badge.svg\" alt=\"Open In Colab\"/></a>"
      ]
    },
    {
      "cell_type": "code",
      "execution_count": 124,
      "metadata": {
        "id": "u3tlKd2IMuUO"
      },
      "outputs": [],
      "source": [
        "import matplotlib.pyplot as plt\n",
        "import seaborn as sns\n",
        "import pandas as pd\n",
        "import numpy as np\n",
        "import warnings\n",
        "from sklearn.linear_model import LinearRegression\n",
        "from sklearn.preprocessing import PolynomialFeatures\n",
        "from sklearn.model_selection import train_test_split\n",
        "warnings.simplefilter(\"ignore\")\n",
        "%matplotlib inline\n",
        "\n",
        "sns.set(style=\"darkgrid\")"
      ]
    },
    {
      "cell_type": "code",
      "source": [
        "from google.colab import drive\n",
        "drive.mount('/content/drive')"
      ],
      "metadata": {
        "id": "BtSWeHS0NdJi"
      },
      "execution_count": null,
      "outputs": []
    },
    {
      "cell_type": "code",
      "source": [
        "data = pd.read_csv(\"/content/drive/MyDrive/GoogleColab/HW2/weather.csv\")\n",
        "data.head()"
      ],
      "metadata": {
        "id": "FQAG6RV9NGPb"
      },
      "execution_count": null,
      "outputs": []
    },
    {
      "cell_type": "code",
      "source": [
        "del data['Unnamed: 0']"
      ],
      "metadata": {
        "id": "ORMmWdLzN6p9"
      },
      "execution_count": 123,
      "outputs": []
    },
    {
      "cell_type": "code",
      "source": [
        "y = data.RainTomorrow.replace({'No':0, 'Yes': 1})\n",
        "X = data.drop(columns=[\"RainTomorrow\"]).replace({'No':0, 'Yes': 1})\n",
        "\n",
        "X_weather, X_test, y_weather, y_test = train_test_split(X, y, test_size=0.3, random_state=10)"
      ],
      "metadata": {
        "id": "QKV-arfyOJPx"
      },
      "execution_count": 120,
      "outputs": []
    },
    {
      "cell_type": "code",
      "source": [
        "numeric_data = X_weather.select_dtypes([np.number])\n",
        "numeric_data_mean = numeric_data.mean()\n",
        "numeric_features = numeric_data.columns\n",
        "\n",
        "X_weather = X_weather.fillna(numeric_data_mean)\n",
        "X_test = X_test.fillna(numeric_data_mean)"
      ],
      "metadata": {
        "id": "GaM0zdgmWm44"
      },
      "execution_count": 121,
      "outputs": []
    },
    {
      "cell_type": "code",
      "source": [
        "from sklearn.linear_model import LogisticRegression\n",
        "from sklearn.metrics import mean_squared_error, mean_absolute_error\n",
        "from sklearn.metrics import classification_report\n",
        "\n",
        "model = LogisticRegression()\n",
        "model.fit(X_weather[numeric_features], y_weather)\n",
        "y_pred = model.predict(X_test[numeric_features])\n",
        "\n",
        "print(classification_report(y_pred, y_test))"
      ],
      "metadata": {
        "colab": {
          "base_uri": "https://localhost:8080/"
        },
        "id": "_y3N_b3FSfr_",
        "outputId": "a9d2ba9b-5551-43fa-eff2-0ec609de8840"
      },
      "execution_count": 122,
      "outputs": [
        {
          "output_type": "stream",
          "name": "stdout",
          "text": [
            "              precision    recall  f1-score   support\n",
            "\n",
            "           0       0.95      0.86      0.90     36637\n",
            "           1       0.45      0.72      0.55      6021\n",
            "\n",
            "    accuracy                           0.84     42658\n",
            "   macro avg       0.70      0.79      0.73     42658\n",
            "weighted avg       0.88      0.84      0.85     42658\n",
            "\n"
          ]
        }
      ]
    }
  ]
}